{
 "cells": [
  {
   "cell_type": "markdown",
   "id": "50ad7ead-5c71-4788-ab55-af35c91d13c3",
   "metadata": {},
   "source": [
    "Les entiers et les floats"
   ]
  },
  {
   "cell_type": "code",
   "execution_count": 5,
   "id": "24af34e3-21f7-4e55-84d2-0fb588b2e80b",
   "metadata": {},
   "outputs": [],
   "source": [
    "age=18"
   ]
  },
  {
   "cell_type": "code",
   "execution_count": 5,
   "id": "9a42033a-5e58-4e4c-9fe6-5c83c905d7f0",
   "metadata": {},
   "outputs": [],
   "source": [
    "prix_cafe=35"
   ]
  },
  {
   "cell_type": "code",
   "execution_count": 2,
   "id": "e517b4d1-7ed6-4106-99c9-0e8c5471ace6",
   "metadata": {},
   "outputs": [
    {
     "name": "stdout",
     "output_type": "stream",
     "text": [
      "l'age est :18\n"
     ]
    }
   ],
   "source": [
    "print(f\"l'age est :{age}\")"
   ]
  },
  {
   "cell_type": "code",
   "execution_count": 6,
   "id": "e9a491a1-8e70-4a96-b876-90449182861d",
   "metadata": {},
   "outputs": [
    {
     "name": "stdout",
     "output_type": "stream",
     "text": [
      "le type 'age' est : <class 'int'>\n"
     ]
    }
   ],
   "source": [
    "print(f\"le type 'age' est : {type(age)}\")"
   ]
  },
  {
   "cell_type": "code",
   "execution_count": 8,
   "id": "a29a4418-84e9-43ff-85c2-8b68a40d3aef",
   "metadata": {},
   "outputs": [],
   "source": [
    "prix_cafe=35"
   ]
  },
  {
   "cell_type": "code",
   "execution_count": 9,
   "id": "33c37c61-b1c1-4b81-a0f8-db2d90ac53cf",
   "metadata": {},
   "outputs": [
    {
     "name": "stdout",
     "output_type": "stream",
     "text": [
      "le prix cafe est: 35 £\n"
     ]
    }
   ],
   "source": [
    "print(f\"le prix cafe est: {prix_cafe} £\")"
   ]
  },
  {
   "cell_type": "code",
   "execution_count": 10,
   "id": "b0598f47-279f-4fc2-bbb8-903d644710be",
   "metadata": {},
   "outputs": [
    {
     "name": "stdout",
     "output_type": "stream",
     "text": [
      "le type 'prix_cafe' est :<class 'int'>\n"
     ]
    }
   ],
   "source": [
    "print(f\"le type 'prix_cafe' est :{type(prix_cafe)}\")"
   ]
  },
  {
   "cell_type": "code",
   "execution_count": 11,
   "id": "3139c827-7751-4593-92d5-8f6b8cc0d6cb",
   "metadata": {},
   "outputs": [],
   "source": [
    "nom='daniel'"
   ]
  },
  {
   "cell_type": "code",
   "execution_count": 12,
   "id": "6d83562c-cba7-4be9-840e-9ac3e3112bb3",
   "metadata": {},
   "outputs": [],
   "source": [
    "prenoms='Zehima Beyé'"
   ]
  },
  {
   "cell_type": "code",
   "execution_count": 15,
   "id": "b7500037-a140-4313-9524-9b46722111d2",
   "metadata": {},
   "outputs": [],
   "source": [
    "message_complet=nom + ' ' + prenoms"
   ]
  },
  {
   "cell_type": "code",
   "execution_count": 16,
   "id": "4e0263ae-7d2b-41cc-bd42-686e403400d1",
   "metadata": {},
   "outputs": [
    {
     "name": "stdout",
     "output_type": "stream",
     "text": [
      "Le nom complet est : daniel Zehima Beyé\n"
     ]
    }
   ],
   "source": [
    "print(f\"Le nom complet est : {message_complet}\")"
   ]
  },
  {
   "cell_type": "code",
   "execution_count": 17,
   "id": "b6b95587-3435-426c-b525-785d28d979c5",
   "metadata": {},
   "outputs": [
    {
     "name": "stdout",
     "output_type": "stream",
     "text": [
      "le type de 'message_complet' est :<class 'str'>\n"
     ]
    }
   ],
   "source": [
    "print(f\"le type de 'message_complet' est :{type(message_complet)}\")"
   ]
  },
  {
   "cell_type": "code",
   "execution_count": 18,
   "id": "a826a54f-1712-4b30-a224-22de75de51c5",
   "metadata": {},
   "outputs": [
    {
     "name": "stdout",
     "output_type": "stream",
     "text": [
      "le mot 'message_complet' a 18 caractères\n"
     ]
    }
   ],
   "source": [
    "print(f\"le mot 'message_complet' a {len(message_complet)} caractères\")"
   ]
  },
  {
   "cell_type": "code",
   "execution_count": null,
   "id": "fbadc0bc-dbf5-4e71-9249-ea19943baf48",
   "metadata": {},
   "outputs": [],
   "source": []
  }
 ],
 "metadata": {
  "kernelspec": {
   "display_name": "Python 3 (ipykernel)",
   "language": "python",
   "name": "python3"
  },
  "language_info": {
   "codemirror_mode": {
    "name": "ipython",
    "version": 3
   },
   "file_extension": ".py",
   "mimetype": "text/x-python",
   "name": "python",
   "nbconvert_exporter": "python",
   "pygments_lexer": "ipython3",
   "version": "3.12.0"
  }
 },
 "nbformat": 4,
 "nbformat_minor": 5
}
