{
 "cells": [
  {
   "cell_type": "markdown",
   "id": "50ad7ead-5c71-4788-ab55-af35c91d13c3",
   "metadata": {},
   "source": [
    "Les entiers et les floats"
   ]
  },
  {
   "cell_type": "code",
   "execution_count": 5,
   "id": "24af34e3-21f7-4e55-84d2-0fb588b2e80b",
   "metadata": {},
   "outputs": [],
   "source": [
    "age=18"
   ]
  },
  {
   "cell_type": "code",
   "execution_count": 5,
   "id": "9a42033a-5e58-4e4c-9fe6-5c83c905d7f0",
   "metadata": {},
   "outputs": [],
   "source": [
    "prix_cafe=35"
   ]
  },
  {
   "cell_type": "code",
   "execution_count": 2,
   "id": "e517b4d1-7ed6-4106-99c9-0e8c5471ace6",
   "metadata": {},
   "outputs": [
    {
     "name": "stdout",
     "output_type": "stream",
     "text": [
      "l'age est :18\n"
     ]
    }
   ],
   "source": [
    "print(f\"l'age est :{age}\")"
   ]
  },
  {
   "cell_type": "code",
   "execution_count": 6,
   "id": "e9a491a1-8e70-4a96-b876-90449182861d",
   "metadata": {},
   "outputs": [
    {
     "name": "stdout",
     "output_type": "stream",
     "text": [
      "le type 'age' est : <class 'int'>\n"
     ]
    }
   ],
   "source": [
    "print(f\"le type 'age' est : {type(age)}\")"
   ]
  },
  {
   "cell_type": "code",
   "execution_count": 8,
   "id": "a29a4418-84e9-43ff-85c2-8b68a40d3aef",
   "metadata": {},
   "outputs": [],
   "source": [
    "prix_cafe=35"
   ]
  },
  {
   "cell_type": "code",
   "execution_count": 9,
   "id": "33c37c61-b1c1-4b81-a0f8-db2d90ac53cf",
   "metadata": {},
   "outputs": [
    {
     "name": "stdout",
     "output_type": "stream",
     "text": [
      "le prix cafe est: 35 £\n"
     ]
    }
   ],
   "source": [
    "print(f\"le prix cafe est: {prix_cafe} £\")"
   ]
  },
  {
   "cell_type": "code",
   "execution_count": 10,
   "id": "b0598f47-279f-4fc2-bbb8-903d644710be",
   "metadata": {},
   "outputs": [
    {
     "name": "stdout",
     "output_type": "stream",
     "text": [
      "le type 'prix_cafe' est :<class 'int'>\n"
     ]
    }
   ],
   "source": [
    "print(f\"le type 'prix_cafe' est :{type(prix_cafe)}\")"
   ]
  },
  {
   "cell_type": "code",
   "execution_count": 11,
   "id": "3139c827-7751-4593-92d5-8f6b8cc0d6cb",
   "metadata": {},
   "outputs": [],
   "source": [
    "nom='daniel'"
   ]
  },
  {
   "cell_type": "code",
   "execution_count": 12,
   "id": "6d83562c-cba7-4be9-840e-9ac3e3112bb3",
   "metadata": {},
   "outputs": [],
   "source": [
    "prenoms='Zehima Beyé'"
   ]
  },
  {
   "cell_type": "code",
   "execution_count": 15,
   "id": "b7500037-a140-4313-9524-9b46722111d2",
   "metadata": {},
   "outputs": [],
   "source": [
    "message_complet=nom + ' ' + prenoms"
   ]
  },
  {
   "cell_type": "code",
   "execution_count": 16,
   "id": "4e0263ae-7d2b-41cc-bd42-686e403400d1",
   "metadata": {},
   "outputs": [
    {
     "name": "stdout",
     "output_type": "stream",
     "text": [
      "Le nom complet est : daniel Zehima Beyé\n"
     ]
    }
   ],
   "source": [
    "print(f\"Le nom complet est : {message_complet}\")"
   ]
  },
  {
   "cell_type": "code",
   "execution_count": 17,
   "id": "b6b95587-3435-426c-b525-785d28d979c5",
   "metadata": {},
   "outputs": [
    {
     "name": "stdout",
     "output_type": "stream",
     "text": [
      "le type de 'message_complet' est :<class 'str'>\n"
     ]
    }
   ],
   "source": [
    "print(f\"le type de 'message_complet' est :{type(message_complet)}\")"
   ]
  },
  {
   "cell_type": "code",
   "execution_count": 18,
   "id": "a826a54f-1712-4b30-a224-22de75de51c5",
   "metadata": {},
   "outputs": [
    {
     "name": "stdout",
     "output_type": "stream",
     "text": [
      "le mot 'message_complet' a 18 caractères\n"
     ]
    }
   ],
   "source": [
    "print(f\"le mot 'message_complet' a {len(message_complet)} caractères\")"
   ]
  },
  {
   "cell_type": "code",
   "execution_count": null,
   "id": "fbadc0bc-dbf5-4e71-9249-ea19943baf48",
   "metadata": {},
   "outputs": [],
   "source": []
  },
  {
   "cell_type": "markdown",
   "id": "6d391b1e-e868-4494-a5a0-645a3f7f54e6",
   "metadata": {},
   "source": [
    "Les Structures de Données Essentielles"
   ]
  },
  {
   "cell_type": "code",
   "execution_count": 2,
   "id": "e25704b8-f8c4-44f7-b321-7ad90ad9fd18",
   "metadata": {},
   "outputs": [],
   "source": [
    "scores_eleves = [85, 92, 78, 92, 65]"
   ]
  },
  {
   "cell_type": "code",
   "execution_count": 3,
   "id": "1f114e03-5fff-41aa-9fbc-76c01bfb92ac",
   "metadata": {},
   "outputs": [],
   "source": [
    "troisieme_score=scores_eleves[2]"
   ]
  },
  {
   "cell_type": "code",
   "execution_count": 4,
   "id": "8a223404-c4c2-40e2-923e-68dccb41af7e",
   "metadata": {},
   "outputs": [
    {
     "name": "stdout",
     "output_type": "stream",
     "text": [
      "le troisième score est : 78\n"
     ]
    }
   ],
   "source": [
    "print(f\"le troisième score est : {troisieme_score}\")"
   ]
  },
  {
   "cell_type": "code",
   "execution_count": 8,
   "id": "0c0f5f33-9735-43e0-9865-0da0b269a024",
   "metadata": {},
   "outputs": [],
   "source": [
    "scores_eleves[0]=scores_eleves[0] + 5"
   ]
  },
  {
   "cell_type": "code",
   "execution_count": 11,
   "id": "a783c678-d819-498e-aba8-37c1f7f6e897",
   "metadata": {},
   "outputs": [
    {
     "name": "stdout",
     "output_type": "stream",
     "text": [
      "le score 1  augmenter de 5 donne : 90\n"
     ]
    }
   ],
   "source": [
    "print(f\"le score 1  augmenter de 5 donne : {scores_eleves[0]}\")"
   ]
  },
  {
   "cell_type": "code",
   "execution_count": null,
   "id": "4b72dcca-6b81-438f-8c33-09b86644736b",
   "metadata": {},
   "outputs": [],
   "source": []
  },
  {
   "cell_type": "markdown",
   "id": "204e566f-5b8b-4973-a4fa-bc80496cd3c4",
   "metadata": {},
   "source": [
    "##Les dictionnaire"
   ]
  },
  {
   "cell_type": "code",
   "execution_count": 12,
   "id": "beed027c-d673-4fb3-8743-0a5052ddddb7",
   "metadata": {},
   "outputs": [
    {
     "name": "stdout",
     "output_type": "stream",
     "text": [
      "Le prix est de : 1200.5\n",
      "Clés mises à jour : dict_keys(['ID_client', 'Nom_produit', 'Prix', 'Est_fidèle', 'Quantité'])\n",
      "\n",
      "Première transaction : {'ID_client': 1001, 'Montant': 50}\n"
     ]
    }
   ],
   "source": [
    "# Dictionnaire représentant un jeu de données \"client\"\n",
    "donnees_client = {\n",
    "    \"ID_client\": 1001,\n",
    "    \"Nom_produit\": \"Ordinateur Portable\",\n",
    "    \"Prix\": 1200.50,\n",
    "    \"Est_fidèle\": True\n",
    "}\n",
    "\n",
    "# Accéder à la valeur du prix\n",
    "prix_produit = donnees_client[\"Prix\"]\n",
    "print(f\"Le prix est de : {prix_produit}\")\n",
    "\n",
    "# Ajouter une nouvelle information\n",
    "donnees_client[\"Quantité\"] = 1\n",
    "print(f\"Clés mises à jour : {donnees_client.keys()}\")\n",
    "\n",
    "# Combiner des structures : Liste de Dictionnaires\n",
    "# (Ceci est la manière la plus courante de stocker des données brutes en Python)\n",
    "liste_transactions = [\n",
    "    {\"ID_client\": 1001, \"Montant\": 50},\n",
    "    {\"ID_client\": 1002, \"Montant\": 150},\n",
    "    {\"ID_client\": 1001, \"Montant\": 25}\n",
    "]\n",
    "\n",
    "print(f\"\\nPremière transaction : {liste_transactions[0]}\")"
   ]
  },
  {
   "cell_type": "markdown",
   "id": "07726805-f27e-4dda-b31c-c52796c52b72",
   "metadata": {},
   "source": [
    "## les structure de controles"
   ]
  },
  {
   "cell_type": "code",
   "execution_count": 32,
   "id": "1144c14e-cb75-4c69-ad98-aadc29a6276e",
   "metadata": {},
   "outputs": [
    {
     "name": "stdout",
     "output_type": "stream",
     "text": [
      "Vos êtes adulte !\n"
     ]
    }
   ],
   "source": [
    "age=30\n",
    "\n",
    "if age==18:\n",
    "    print(\"Vous êtes majeur !\")\n",
    "elif age<18:\n",
    "    print(\"Vous êtes jenes !\")\n",
    "elif age>18:\n",
    "    print(\"Vos êtes adulte !\")"
   ]
  },
  {
   "cell_type": "code",
   "execution_count": 33,
   "id": "2211a2ba-e538-475b-99c0-ce83a691656b",
   "metadata": {},
   "outputs": [
    {
     "name": "stdout",
     "output_type": "stream",
     "text": [
      "L'élève avec le score 88 a un niveau : Bon (B)\n"
     ]
    }
   ],
   "source": [
    "score_test = 88\n",
    "\n",
    "if score_test >= 90:\n",
    "    niveau = \"Excellent (A)\"\n",
    "elif score_test >= 80:\n",
    "    # Cette partie est exécutée car 88 est >= 80, mais < 90\n",
    "    niveau = \"Bon (B)\"\n",
    "elif score_test >= 70:\n",
    "    niveau = \"Satisfaisant (C)\"\n",
    "else:\n",
    "    niveau = \"À améliorer (D)\"\n",
    "\n",
    "print(f\"L'élève avec le score {score_test} a un niveau : {niveau}\")"
   ]
  },
  {
   "cell_type": "markdown",
   "id": "e7465a7a-5168-4d44-8fa8-a5220e6bbe05",
   "metadata": {},
   "source": [
    "#Parcour de dictionnaire"
   ]
  },
  {
   "cell_type": "code",
   "execution_count": null,
   "id": "f0b9788b-138f-412a-9a9a-dd0c4d61ac15",
   "metadata": {},
   "outputs": [],
   "source": [
    "profil_utilisateur = {\"nom\": \"Marc\", \"age\": 42, \"poste\": \"Analyste\"}\n",
    "\n",
    "# Parcourir les CLÉS\n",
    "for cle in profil_utilisateur:\n",
    "    print(f\"Clé: {cle}\")\n",
    "\n",
    "# Parcourir les VALEURS\n",
    "for valeur in profil_utilisateur.values():\n",
    "    print(f\"Valeur: {valeur}\")\n",
    "\n",
    "# Parcourir les CLÉS et les VALEURS (le plus complet)\n",
    "for cle, valeur in profil_utilisateur.items():\n",
    "    print(f\"{cle} : {valeur}\")"
   ]
  }
 ],
 "metadata": {
  "kernelspec": {
   "display_name": "Python 3 (ipykernel)",
   "language": "python",
   "name": "python3"
  },
  "language_info": {
   "codemirror_mode": {
    "name": "ipython",
    "version": 3
   },
   "file_extension": ".py",
   "mimetype": "text/x-python",
   "name": "python",
   "nbconvert_exporter": "python",
   "pygments_lexer": "ipython3",
   "version": "3.12.0"
  }
 },
 "nbformat": 4,
 "nbformat_minor": 5
}
