{
 "cells": [
  {
   "cell_type": "code",
   "execution_count": null,
   "id": "aafd1402-2142-4651-b5ef-a8fb7749aba6",
   "metadata": {},
   "outputs": [],
   "source": [
    "# Data science"
   ]
  },
  {
   "cell_type": "markdown",
   "id": "9f689036-2d41-491a-9286-b00dcf9ca0aa",
   "metadata": {},
   "source": [
    "#importation de la bibliothèqe nmpy (convention standar)\n",
    "import numpy as np\n",
    "\n",
    "#création d'un tableau vectoriel (1 Dimension)\n",
    "poids_kg=np.array([10,20,30,40,35])\n",
    "\n",
    "print(f\"Poids en kg : {poids_kg}\")\n",
    "\n",
    "# 2. Opération Vectorisée (sans boucle!)\n",
    "# Conversion des KG en Livres (1 kg = 2.20462 lbs)\n",
    "conversion_facteur = 2.20462\n",
    "poids_lbs = poids_kg * conversion_facteur\n",
    "\n",
    "print(f\"Pois en lbs : {poids_lbs}\")\n"
   ]
  }
 ],
 "metadata": {
  "kernelspec": {
   "display_name": "Python 3 (ipykernel)",
   "language": "python",
   "name": "python3"
  },
  "language_info": {
   "codemirror_mode": {
    "name": "ipython",
    "version": 3
   },
   "file_extension": ".py",
   "mimetype": "text/x-python",
   "name": "python",
   "nbconvert_exporter": "python",
   "pygments_lexer": "ipython3",
   "version": "3.12.0"
  }
 },
 "nbformat": 4,
 "nbformat_minor": 5
}
