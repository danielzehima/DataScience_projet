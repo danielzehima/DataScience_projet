{
 "cells": [
  {
   "cell_type": "markdown",
   "id": "89ebccb7-7c3a-4730-8a0d-83efa95c8600",
   "metadata": {},
   "source": [
    "# Data science(Introduction) avec la bibliothèque numpy"
   ]
  },
  {
   "cell_type": "code",
   "execution_count": 6,
   "id": "6fbcaac7-382c-46cc-97da-be038b07b8e5",
   "metadata": {},
   "outputs": [
    {
     "name": "stdout",
     "output_type": "stream",
     "text": [
      "Poids en kg : [10 20 30 40 35]\n",
      "Pois en lbs : [22.0462 44.0924 66.1386 88.1848 77.1617]\n",
      "\n",
      "Matrice des Scores (3 étudiants, 3 examens) :\n",
      " [[90 85 92]\n",
      " [78 88 95]\n",
      " [65 72 80]]\n"
     ]
    }
   ],
   "source": [
    "#importation de la bibliothèqe nmpy (convention standar)\n",
    "import numpy as np\n",
    "\n",
    "#création d'un tableau vectoriel (1 Dimension)\n",
    "poids_kg=np.array([10,20,30,40,35])\n",
    "\n",
    "print(f\"Poids en kg : {poids_kg}\")\n",
    "\n",
    "# 2. Opération Vectorisée (sans boucle!)\n",
    "# Conversion des KG en Livres (1 kg = 2.20462 lbs)\n",
    "conversion_facteur = 2.20462\n",
    "poids_lbs = poids_kg * conversion_facteur\n",
    "\n",
    "print(f\"Pois en lbs : {poids_lbs}\")\n",
    "\n",
    "# 3. Création d'un arraay 2d (matrice)\n",
    "matrice_scores = np.array([\n",
    "    [90, 85, 92], # Ligne 0\n",
    "    [78, 88, 95], # Ligne 1\n",
    "    [65, 72, 80]  # Ligne 2\n",
    "])\n",
    "print(\"\\nMatrice des Scores (3 étudiants, 3 examens) :\\n\", matrice_scores)\n"
   ]
  },
  {
   "cell_type": "markdown",
   "id": "31933eb9-b3f6-4075-bf91-002e6bcd9b9d",
   "metadata": {},
   "source": []
  }
 ],
 "metadata": {
  "kernelspec": {
   "display_name": "Python 3 (ipykernel)",
   "language": "python",
   "name": "python3"
  },
  "language_info": {
   "codemirror_mode": {
    "name": "ipython",
    "version": 3
   },
   "file_extension": ".py",
   "mimetype": "text/x-python",
   "name": "python",
   "nbconvert_exporter": "python",
   "pygments_lexer": "ipython3",
   "version": "3.12.0"
  }
 },
 "nbformat": 4,
 "nbformat_minor": 5
}
