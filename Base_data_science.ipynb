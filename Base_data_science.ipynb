{
 "cells": [
  {
   "cell_type": "markdown",
   "id": "89ebccb7-7c3a-4730-8a0d-83efa95c8600",
   "metadata": {},
   "source": [
    "# Data science(Introduction) avec la bibliothèque numpy"
   ]
  },
  {
   "cell_type": "code",
   "execution_count": 10,
   "id": "6fbcaac7-382c-46cc-97da-be038b07b8e5",
   "metadata": {
    "scrolled": true
   },
   "outputs": [
    {
     "name": "stdout",
     "output_type": "stream",
     "text": [
      "Poids en kg : [10 20 30 40 35]\n",
      "Pois en lbs : [22.0462 44.0924 66.1386 88.1848 77.1617]\n",
      "\n",
      "Matrice des Scores (3 étudiants, 3 examens) :\n",
      " [[90 85 92]\n",
      " [78 88 95]\n",
      " [65 72 80]]\n",
      "Moyenne globale : 82.78\n",
      "Moyenne de chaque examen : [77.66666667 81.66666667 89.        ]\n"
     ]
    }
   ],
   "source": [
    "#importation de la bibliothèqe nmpy (convention standar)\n",
    "import numpy as np\n",
    "\n",
    "#création d'un tableau vectoriel (1 Dimension)\n",
    "poids_kg=np.array([10,20,30,40,35])\n",
    "\n",
    "print(f\"Poids en kg : {poids_kg}\")\n",
    "\n",
    "# 2. Opération Vectorisée (sans boucle!)\n",
    "# Conversion des KG en Livres (1 kg = 2.20462 lbs)\n",
    "conversion_facteur = 2.20462\n",
    "poids_lbs = poids_kg * conversion_facteur\n",
    "\n",
    "print(f\"Pois en lbs : {poids_lbs}\")\n",
    "\n",
    "# 3. Création d'un arraay 2d (matrice)\n",
    "matrice_scores = np.array([\n",
    "    [90, 85, 92], # Ligne 0\n",
    "    [78, 88, 95], # Ligne 1\n",
    "    [65, 72, 80]  # Ligne 2\n",
    "])\n",
    "print(\"\\nMatrice des Scores (3 étudiants, 3 examens) :\\n\", matrice_scores)\n",
    "\n",
    "# 4. Opération de Statistiques Rapides\n",
    "# Calculer la moyenne des scores pour TOUS les examens\n",
    "moyenne_globale = np.mean(matrice_scores)\n",
    "print(f\"Moyenne globale : {moyenne_globale:.2f}\")\n",
    "\n",
    "# Calculer la moyenne par examen (axe=0 pour les colonnes)\n",
    "moyenne_par_examen = np.mean(matrice_scores, axis=0) \n",
    "print(f\"Moyenne de chaque examen : {moyenne_par_examen}\")\n"
   ]
  },
  {
   "cell_type": "code",
   "execution_count": 12,
   "id": "9b7e9271-c148-4dde-bc16-53c48dd77912",
   "metadata": {},
   "outputs": [
    {
     "name": "stdout",
     "output_type": "stream",
     "text": [
      "la somme des examens par etudiants :[267 261 217]\n"
     ]
    }
   ],
   "source": [
    "score_par_etudiant=np.sum(matrice_scores,axis=1)\n",
    "print(f\"la somme des examens par etudiants :{score_par_etudiant}\")"
   ]
  },
  {
   "cell_type": "markdown",
   "id": "f90b91f0-b1cf-4b3b-9c72-be1e2c31dc12",
   "metadata": {},
   "source": [
    "# Masqe Booléen"
   ]
  },
  {
   "cell_type": "code",
   "execution_count": 13,
   "id": "6e41f4ed-eac2-4288-84fc-69cc4adbf03f",
   "metadata": {},
   "outputs": [
    {
     "name": "stdout",
     "output_type": "stream",
     "text": [
      "Masque Booléen :\n",
      "[[ True False  True]\n",
      " [False  True  True]\n",
      " [False False False]]\n",
      "\n",
      "Scores supérieurs à 85 : [90 92 88 95]\n"
     ]
    }
   ],
   "source": [
    "# 1. Créer le masque booléen\n",
    "# Un masque est un tableau de True/False de la même forme que la matrice\n",
    "masque_sup_85 = matrice_scores > 85 \n",
    "print(f\"Masque Booléen :\\n{masque_sup_85}\")\n",
    "\n",
    "# 2. Appliquer le masque\n",
    "# NumPy ne sélectionne que les éléments où le masque est True\n",
    "scores_superieurs_85 = matrice_scores[masque_sup_85]\n",
    "\n",
    "print(f\"\\nScores supérieurs à 85 : {scores_superieurs_85}\")\n",
    "# Output : [90 92 88 95]"
   ]
  },
  {
   "cell_type": "code",
   "execution_count": 16,
   "id": "98b65b51-17a9-4fcd-b4fe-f1e532f9f371",
   "metadata": {},
   "outputs": [
    {
     "name": "stdout",
     "output_type": "stream",
     "text": [
      "Masque booléen : \n",
      " [[False False False]\n",
      " [ True False False]\n",
      " [ True  True False]]\n",
      "Les scores inférieurs à 80 : [78 65 72]\n"
     ]
    }
   ],
   "source": [
    "# score inferieur 80\n",
    "masque_inf_80=matrice_scores<80\n",
    "print(f\"Masque booléen : \\n {masque_inf_80}\")\n",
    "\n",
    "score_inf_80=matrice_scores[masque_inf_80]\n",
    "print(f\"Les scores inférieurs à 80 : {score_inf_80}\")"
   ]
  },
  {
   "cell_type": "code",
   "execution_count": null,
   "id": "bb2d5145-448c-48d2-bee2-c5391847b56b",
   "metadata": {},
   "outputs": [],
   "source": []
  }
 ],
 "metadata": {
  "kernelspec": {
   "display_name": "Python 3 (ipykernel)",
   "language": "python",
   "name": "python3"
  },
  "language_info": {
   "codemirror_mode": {
    "name": "ipython",
    "version": 3
   },
   "file_extension": ".py",
   "mimetype": "text/x-python",
   "name": "python",
   "nbconvert_exporter": "python",
   "pygments_lexer": "ipython3",
   "version": "3.12.0"
  }
 },
 "nbformat": 4,
 "nbformat_minor": 5
}
