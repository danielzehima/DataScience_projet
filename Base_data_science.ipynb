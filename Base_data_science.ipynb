{
 "cells": [
  {
   "cell_type": "markdown",
   "id": "89ebccb7-7c3a-4730-8a0d-83efa95c8600",
   "metadata": {},
   "source": [
    "# Data science(Introduction) avec la bibliothèque numpy"
   ]
  },
  {
   "cell_type": "code",
   "execution_count": 10,
   "id": "6fbcaac7-382c-46cc-97da-be038b07b8e5",
   "metadata": {
    "scrolled": true
   },
   "outputs": [
    {
     "name": "stdout",
     "output_type": "stream",
     "text": [
      "Poids en kg : [10 20 30 40 35]\n",
      "Pois en lbs : [22.0462 44.0924 66.1386 88.1848 77.1617]\n",
      "\n",
      "Matrice des Scores (3 étudiants, 3 examens) :\n",
      " [[90 85 92]\n",
      " [78 88 95]\n",
      " [65 72 80]]\n",
      "Moyenne globale : 82.78\n",
      "Moyenne de chaque examen : [77.66666667 81.66666667 89.        ]\n"
     ]
    }
   ],
   "source": [
    "#importation de la bibliothèqe nmpy (convention standar)\n",
    "import numpy as np\n",
    "\n",
    "#création d'un tableau vectoriel (1 Dimension)\n",
    "poids_kg=np.array([10,20,30,40,35])\n",
    "\n",
    "print(f\"Poids en kg : {poids_kg}\")\n",
    "\n",
    "# 2. Opération Vectorisée (sans boucle!)\n",
    "# Conversion des KG en Livres (1 kg = 2.20462 lbs)\n",
    "conversion_facteur = 2.20462\n",
    "poids_lbs = poids_kg * conversion_facteur\n",
    "\n",
    "print(f\"Pois en lbs : {poids_lbs}\")\n",
    "\n",
    "# 3. Création d'un arraay 2d (matrice)\n",
    "matrice_scores = np.array([\n",
    "    [90, 85, 92], # Ligne 0\n",
    "    [78, 88, 95], # Ligne 1\n",
    "    [65, 72, 80]  # Ligne 2\n",
    "])\n",
    "print(\"\\nMatrice des Scores (3 étudiants, 3 examens) :\\n\", matrice_scores)\n",
    "\n",
    "# 4. Opération de Statistiques Rapides\n",
    "# Calculer la moyenne des scores pour TOUS les examens\n",
    "moyenne_globale = np.mean(matrice_scores)\n",
    "print(f\"Moyenne globale : {moyenne_globale:.2f}\")\n",
    "\n",
    "# Calculer la moyenne par examen (axe=0 pour les colonnes)\n",
    "moyenne_par_examen = np.mean(matrice_scores, axis=0) \n",
    "print(f\"Moyenne de chaque examen : {moyenne_par_examen}\")\n"
   ]
  },
  {
   "cell_type": "code",
   "execution_count": 12,
   "id": "9b7e9271-c148-4dde-bc16-53c48dd77912",
   "metadata": {},
   "outputs": [
    {
     "name": "stdout",
     "output_type": "stream",
     "text": [
      "la somme des examens par etudiants :[267 261 217]\n"
     ]
    }
   ],
   "source": [
    "score_par_etudiant=np.sum(matrice_scores,axis=1)\n",
    "print(f\"la somme des examens par etudiants :{score_par_etudiant}\")"
   ]
  },
  {
   "cell_type": "markdown",
   "id": "f90b91f0-b1cf-4b3b-9c72-be1e2c31dc12",
   "metadata": {},
   "source": [
    "# Masqe Booléen"
   ]
  },
  {
   "cell_type": "code",
   "execution_count": 13,
   "id": "6e41f4ed-eac2-4288-84fc-69cc4adbf03f",
   "metadata": {},
   "outputs": [
    {
     "name": "stdout",
     "output_type": "stream",
     "text": [
      "Masque Booléen :\n",
      "[[ True False  True]\n",
      " [False  True  True]\n",
      " [False False False]]\n",
      "\n",
      "Scores supérieurs à 85 : [90 92 88 95]\n"
     ]
    }
   ],
   "source": [
    "# 1. Créer le masque booléen\n",
    "# Un masque est un tableau de True/False de la même forme que la matrice\n",
    "masque_sup_85 = matrice_scores > 85 \n",
    "print(f\"Masque Booléen :\\n{masque_sup_85}\")\n",
    "\n",
    "# 2. Appliquer le masque\n",
    "# NumPy ne sélectionne que les éléments où le masque est True\n",
    "scores_superieurs_85 = matrice_scores[masque_sup_85]\n",
    "\n",
    "print(f\"\\nScores supérieurs à 85 : {scores_superieurs_85}\")\n",
    "# Output : [90 92 88 95]"
   ]
  },
  {
   "cell_type": "code",
   "execution_count": 16,
   "id": "98b65b51-17a9-4fcd-b4fe-f1e532f9f371",
   "metadata": {},
   "outputs": [
    {
     "name": "stdout",
     "output_type": "stream",
     "text": [
      "Masque booléen : \n",
      " [[False False False]\n",
      " [ True False False]\n",
      " [ True  True False]]\n",
      "Les scores inférieurs à 80 : [78 65 72]\n"
     ]
    }
   ],
   "source": [
    "# score inferieur 80\n",
    "masque_inf_80=matrice_scores<80\n",
    "print(f\"Masque booléen : \\n {masque_inf_80}\")\n",
    "\n",
    "score_inf_80=matrice_scores[masque_inf_80]\n",
    "print(f\"Les scores inférieurs à 80 : {score_inf_80}\")"
   ]
  },
  {
   "cell_type": "markdown",
   "id": "e1f6f327-aa2f-4ab1-af40-b00077d86a5f",
   "metadata": {},
   "source": [
    "# Introduction à la bibliothèqe Pandss"
   ]
  },
  {
   "cell_type": "code",
   "execution_count": 23,
   "id": "1412e36b-580a-41b4-87f5-ed1e3fceede8",
   "metadata": {},
   "outputs": [
    {
     "name": "stdout",
     "output_type": "stream",
     "text": [
      "--- 5 premières lignes (df.head()) ---\n",
      "       Nom  Age  Ville   Revenu\n",
      "0    Alice   25  Paris  50000.0\n",
      "1      Bob   30   Lyon  65000.0\n",
      "2  Charlie   35  Paris      NaN\n",
      "3    David   22   Nice  40000.0\n",
      "4      Eve   28   Lyon  72000.0\n",
      "\n",
      "--- Informations sur la structure (df.info()) ---\n",
      "<class 'pandas.core.frame.DataFrame'>\n",
      "RangeIndex: 5 entries, 0 to 4\n",
      "Data columns (total 4 columns):\n",
      " #   Column  Non-Null Count  Dtype  \n",
      "---  ------  --------------  -----  \n",
      " 0   Nom     5 non-null      object \n",
      " 1   Age     5 non-null      int64  \n",
      " 2   Ville   5 non-null      object \n",
      " 3   Revenu  4 non-null      float64\n",
      "dtypes: float64(1), int64(1), object(2)\n",
      "memory usage: 292.0+ bytes\n",
      "\n",
      "--- Statistiques descriptives (df.describe()) ---\n",
      "             Age        Revenu\n",
      "count   5.000000      4.000000\n",
      "mean   28.000000  56750.000000\n",
      "std     4.949747  14453.949864\n",
      "min    22.000000  40000.000000\n",
      "25%    25.000000  47500.000000\n",
      "50%    28.000000  57500.000000\n",
      "75%    30.000000  66750.000000\n",
      "max    35.000000  72000.000000\n",
      "\n",
      "------Le filtrage -------------\n",
      "   Nom  Age Ville   Revenu\n",
      "1  Bob   30  Lyon  65000.0\n",
      "4  Eve   28  Lyon  72000.0\n"
     ]
    }
   ],
   "source": [
    "import pandas as pd\n",
    "import numpy as np\n",
    "\n",
    "# 1. Préparation des données sous forme de dictionnaire\n",
    "data = {\n",
    "    'Nom': ['Alice', 'Bob', 'Charlie', 'David', 'Eve'],\n",
    "    'Age': [25, 30, 35, 22, 28],\n",
    "    'Ville': ['Paris', 'Lyon', 'Paris', 'Nice', 'Lyon'],\n",
    "    # Utilisation d'un NaN (Not a Number) de NumPy pour une valeur manquante\n",
    "    'Revenu': [50000, 65000, np.nan, 40000, 72000] \n",
    "}\n",
    "\n",
    "df_clients=pd.DataFrame(data)\n",
    "\n",
    "print(\"--- 5 premières lignes (df.head()) ---\")\n",
    "print(df_clients.head()) # Affiche les 5 premières lignes\n",
    "\n",
    "print(\"\\n--- Informations sur la structure (df.info()) ---\")\n",
    "df_clients.info() # Donne les types de données, les valeurs non nulles, et l'utilisation mémoire\n",
    "\n",
    "print(\"\\n--- Statistiques descriptives (df.describe()) ---\")\n",
    "print(df_clients.describe())df # Donne la moyenne, l'écart-type, les quartiles pour les colonnes numériques\n",
    "\n",
    "condition_ville=df_clients[\"Ville\"]==\"Lyon\"\n",
    "condition_revenu=df_clients[\"Revenu\"]>60000\n",
    "condition_complete=df_clients[condition_ville & condition_revenu]\n",
    "print(\"\\n------Le filtrage -------------\")\n",
    "print(condition_complete)\n"
   ]
  },
  {
   "cell_type": "markdown",
   "id": "8bee9373-9540-4617-80aa-01469c877ec9",
   "metadata": {},
   "source": [
    "# sélection de ligne"
   ]
  },
  {
   "cell_type": "code",
   "execution_count": 25,
   "id": "067a18c9-994e-4bc1-af78-106eb34a2c07",
   "metadata": {},
   "outputs": [
    {
     "data": {
      "text/plain": [
       "0    25\n",
       "1    30\n",
       "2    35\n",
       "3    22\n",
       "4    28\n",
       "Name: Age, dtype: int64"
      ]
     },
     "execution_count": 25,
     "metadata": {},
     "output_type": "execute_result"
    }
   ],
   "source": [
    "df_clients[\"Age\"]"
   ]
  },
  {
   "cell_type": "code",
   "execution_count": 26,
   "id": "c5584cbf-578a-49ad-b4d5-3d3ce329e18a",
   "metadata": {},
   "outputs": [
    {
     "name": "stdout",
     "output_type": "stream",
     "text": [
      "<class 'pandas.core.frame.DataFrame'>\n",
      "RangeIndex: 5 entries, 0 to 4\n",
      "Data columns (total 4 columns):\n",
      " #   Column  Non-Null Count  Dtype  \n",
      "---  ------  --------------  -----  \n",
      " 0   Nom     5 non-null      object \n",
      " 1   Age     5 non-null      int64  \n",
      " 2   Ville   5 non-null      object \n",
      " 3   Revenu  4 non-null      float64\n",
      "dtypes: float64(1), int64(1), object(2)\n",
      "memory usage: 292.0+ bytes\n"
     ]
    }
   ],
   "source": [
    "df_clients.info()"
   ]
  },
  {
   "cell_type": "code",
   "execution_count": 32,
   "id": "2acf293a-6d2d-42d9-be06-68de1742779f",
   "metadata": {},
   "outputs": [
    {
     "data": {
      "text/html": [
       "<div>\n",
       "<style scoped>\n",
       "    .dataframe tbody tr th:only-of-type {\n",
       "        vertical-align: middle;\n",
       "    }\n",
       "\n",
       "    .dataframe tbody tr th {\n",
       "        vertical-align: top;\n",
       "    }\n",
       "\n",
       "    .dataframe thead th {\n",
       "        text-align: right;\n",
       "    }\n",
       "</style>\n",
       "<table border=\"1\" class=\"dataframe\">\n",
       "  <thead>\n",
       "    <tr style=\"text-align: right;\">\n",
       "      <th></th>\n",
       "      <th>Nom</th>\n",
       "      <th>Age</th>\n",
       "      <th>Ville</th>\n",
       "      <th>Revenu</th>\n",
       "    </tr>\n",
       "  </thead>\n",
       "  <tbody>\n",
       "    <tr>\n",
       "      <th>0</th>\n",
       "      <td>Alice</td>\n",
       "      <td>25</td>\n",
       "      <td>Paris</td>\n",
       "      <td>50000.0</td>\n",
       "    </tr>\n",
       "    <tr>\n",
       "      <th>1</th>\n",
       "      <td>Bob</td>\n",
       "      <td>30</td>\n",
       "      <td>Lyon</td>\n",
       "      <td>65000.0</td>\n",
       "    </tr>\n",
       "    <tr>\n",
       "      <th>2</th>\n",
       "      <td>Charlie</td>\n",
       "      <td>35</td>\n",
       "      <td>Paris</td>\n",
       "      <td>NaN</td>\n",
       "    </tr>\n",
       "    <tr>\n",
       "      <th>3</th>\n",
       "      <td>David</td>\n",
       "      <td>22</td>\n",
       "      <td>Nice</td>\n",
       "      <td>40000.0</td>\n",
       "    </tr>\n",
       "    <tr>\n",
       "      <th>4</th>\n",
       "      <td>Eve</td>\n",
       "      <td>28</td>\n",
       "      <td>Lyon</td>\n",
       "      <td>72000.0</td>\n",
       "    </tr>\n",
       "  </tbody>\n",
       "</table>\n",
       "</div>"
      ],
      "text/plain": [
       "       Nom  Age  Ville   Revenu\n",
       "0    Alice   25  Paris  50000.0\n",
       "1      Bob   30   Lyon  65000.0\n",
       "2  Charlie   35  Paris      NaN\n",
       "3    David   22   Nice  40000.0\n",
       "4      Eve   28   Lyon  72000.0"
      ]
     },
     "execution_count": 32,
     "metadata": {},
     "output_type": "execute_result"
    }
   ],
   "source": [
    "df_clients.head(5)"
   ]
  },
  {
   "cell_type": "code",
   "execution_count": 33,
   "id": "b87f313e-3067-4e34-9246-15b78a130a0b",
   "metadata": {},
   "outputs": [
    {
     "data": {
      "text/plain": [
       "0      Alice\n",
       "1        Bob\n",
       "2    Charlie\n",
       "3      David\n",
       "4        Eve\n",
       "Name: Nom, dtype: object"
      ]
     },
     "execution_count": 33,
     "metadata": {},
     "output_type": "execute_result"
    }
   ],
   "source": [
    "df_clients.Nom.head()"
   ]
  },
  {
   "cell_type": "code",
   "execution_count": 34,
   "id": "7d2436b2-a99e-4cab-b67e-4de5cf0cd624",
   "metadata": {},
   "outputs": [
    {
     "data": {
      "text/html": [
       "<div>\n",
       "<style scoped>\n",
       "    .dataframe tbody tr th:only-of-type {\n",
       "        vertical-align: middle;\n",
       "    }\n",
       "\n",
       "    .dataframe tbody tr th {\n",
       "        vertical-align: top;\n",
       "    }\n",
       "\n",
       "    .dataframe thead th {\n",
       "        text-align: right;\n",
       "    }\n",
       "</style>\n",
       "<table border=\"1\" class=\"dataframe\">\n",
       "  <thead>\n",
       "    <tr style=\"text-align: right;\">\n",
       "      <th></th>\n",
       "      <th>Nom</th>\n",
       "      <th>Age</th>\n",
       "      <th>Ville</th>\n",
       "      <th>Revenu</th>\n",
       "    </tr>\n",
       "  </thead>\n",
       "  <tbody>\n",
       "    <tr>\n",
       "      <th>0</th>\n",
       "      <td>Alice</td>\n",
       "      <td>25</td>\n",
       "      <td>Paris</td>\n",
       "      <td>50000.0</td>\n",
       "    </tr>\n",
       "    <tr>\n",
       "      <th>1</th>\n",
       "      <td>Bob</td>\n",
       "      <td>30</td>\n",
       "      <td>Lyon</td>\n",
       "      <td>65000.0</td>\n",
       "    </tr>\n",
       "    <tr>\n",
       "      <th>2</th>\n",
       "      <td>Charlie</td>\n",
       "      <td>35</td>\n",
       "      <td>Paris</td>\n",
       "      <td>NaN</td>\n",
       "    </tr>\n",
       "    <tr>\n",
       "      <th>3</th>\n",
       "      <td>David</td>\n",
       "      <td>22</td>\n",
       "      <td>Nice</td>\n",
       "      <td>40000.0</td>\n",
       "    </tr>\n",
       "    <tr>\n",
       "      <th>4</th>\n",
       "      <td>Eve</td>\n",
       "      <td>28</td>\n",
       "      <td>Lyon</td>\n",
       "      <td>72000.0</td>\n",
       "    </tr>\n",
       "  </tbody>\n",
       "</table>\n",
       "</div>"
      ],
      "text/plain": [
       "       Nom  Age  Ville   Revenu\n",
       "0    Alice   25  Paris  50000.0\n",
       "1      Bob   30   Lyon  65000.0\n",
       "2  Charlie   35  Paris      NaN\n",
       "3    David   22   Nice  40000.0\n",
       "4      Eve   28   Lyon  72000.0"
      ]
     },
     "execution_count": 34,
     "metadata": {},
     "output_type": "execute_result"
    }
   ],
   "source": [
    "df_clients"
   ]
  },
  {
   "cell_type": "code",
   "execution_count": 35,
   "id": "5f31c436-0443-4437-95f4-b4bea6a24165",
   "metadata": {},
   "outputs": [
    {
     "data": {
      "text/html": [
       "<div>\n",
       "<style scoped>\n",
       "    .dataframe tbody tr th:only-of-type {\n",
       "        vertical-align: middle;\n",
       "    }\n",
       "\n",
       "    .dataframe tbody tr th {\n",
       "        vertical-align: top;\n",
       "    }\n",
       "\n",
       "    .dataframe thead th {\n",
       "        text-align: right;\n",
       "    }\n",
       "</style>\n",
       "<table border=\"1\" class=\"dataframe\">\n",
       "  <thead>\n",
       "    <tr style=\"text-align: right;\">\n",
       "      <th></th>\n",
       "      <th>Nom</th>\n",
       "      <th>Age</th>\n",
       "      <th>Ville</th>\n",
       "      <th>Revenu</th>\n",
       "    </tr>\n",
       "  </thead>\n",
       "  <tbody>\n",
       "    <tr>\n",
       "      <th>0</th>\n",
       "      <td>Alice</td>\n",
       "      <td>25</td>\n",
       "      <td>Paris</td>\n",
       "      <td>50000.0</td>\n",
       "    </tr>\n",
       "    <tr>\n",
       "      <th>1</th>\n",
       "      <td>Bob</td>\n",
       "      <td>30</td>\n",
       "      <td>Lyon</td>\n",
       "      <td>65000.0</td>\n",
       "    </tr>\n",
       "    <tr>\n",
       "      <th>3</th>\n",
       "      <td>David</td>\n",
       "      <td>22</td>\n",
       "      <td>Nice</td>\n",
       "      <td>40000.0</td>\n",
       "    </tr>\n",
       "    <tr>\n",
       "      <th>4</th>\n",
       "      <td>Eve</td>\n",
       "      <td>28</td>\n",
       "      <td>Lyon</td>\n",
       "      <td>72000.0</td>\n",
       "    </tr>\n",
       "  </tbody>\n",
       "</table>\n",
       "</div>"
      ],
      "text/plain": [
       "     Nom  Age  Ville   Revenu\n",
       "0  Alice   25  Paris  50000.0\n",
       "1    Bob   30   Lyon  65000.0\n",
       "3  David   22   Nice  40000.0\n",
       "4    Eve   28   Lyon  72000.0"
      ]
     },
     "execution_count": 35,
     "metadata": {},
     "output_type": "execute_result"
    }
   ],
   "source": [
    "print(\"\\n-------------DataFrame aprè spression des lignes avec NaN\")\n",
    "df_clients.dropna()"
   ]
  },
  {
   "cell_type": "code",
   "execution_count": null,
   "id": "26507767-f77e-4dd1-8467-94b6abf1a609",
   "metadata": {},
   "outputs": [],
   "source": []
  }
 ],
 "metadata": {
  "kernelspec": {
   "display_name": "Python 3 (ipykernel)",
   "language": "python",
   "name": "python3"
  },
  "language_info": {
   "codemirror_mode": {
    "name": "ipython",
    "version": 3
   },
   "file_extension": ".py",
   "mimetype": "text/x-python",
   "name": "python",
   "nbconvert_exporter": "python",
   "pygments_lexer": "ipython3",
   "version": "3.12.0"
  }
 },
 "nbformat": 4,
 "nbformat_minor": 5
}
