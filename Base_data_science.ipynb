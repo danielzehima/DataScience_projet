{
 "cells": [
  {
   "cell_type": "markdown",
   "id": "89ebccb7-7c3a-4730-8a0d-83efa95c8600",
   "metadata": {},
   "source": [
    "# Data science(Introduction) avec la bibliothèque numpy"
   ]
  },
  {
   "cell_type": "code",
   "execution_count": 10,
   "id": "6fbcaac7-382c-46cc-97da-be038b07b8e5",
   "metadata": {
    "scrolled": true
   },
   "outputs": [
    {
     "name": "stdout",
     "output_type": "stream",
     "text": [
      "Poids en kg : [10 20 30 40 35]\n",
      "Pois en lbs : [22.0462 44.0924 66.1386 88.1848 77.1617]\n",
      "\n",
      "Matrice des Scores (3 étudiants, 3 examens) :\n",
      " [[90 85 92]\n",
      " [78 88 95]\n",
      " [65 72 80]]\n",
      "Moyenne globale : 82.78\n",
      "Moyenne de chaque examen : [77.66666667 81.66666667 89.        ]\n"
     ]
    }
   ],
   "source": [
    "#importation de la bibliothèqe nmpy (convention standar)\n",
    "import numpy as np\n",
    "\n",
    "#création d'un tableau vectoriel (1 Dimension)\n",
    "poids_kg=np.array([10,20,30,40,35])\n",
    "\n",
    "print(f\"Poids en kg : {poids_kg}\")\n",
    "\n",
    "# 2. Opération Vectorisée (sans boucle!)\n",
    "# Conversion des KG en Livres (1 kg = 2.20462 lbs)\n",
    "conversion_facteur = 2.20462\n",
    "poids_lbs = poids_kg * conversion_facteur\n",
    "\n",
    "print(f\"Pois en lbs : {poids_lbs}\")\n",
    "\n",
    "# 3. Création d'un arraay 2d (matrice)\n",
    "matrice_scores = np.array([\n",
    "    [90, 85, 92], # Ligne 0\n",
    "    [78, 88, 95], # Ligne 1\n",
    "    [65, 72, 80]  # Ligne 2\n",
    "])\n",
    "print(\"\\nMatrice des Scores (3 étudiants, 3 examens) :\\n\", matrice_scores)\n",
    "\n",
    "# 4. Opération de Statistiques Rapides\n",
    "# Calculer la moyenne des scores pour TOUS les examens\n",
    "moyenne_globale = np.mean(matrice_scores)\n",
    "print(f\"Moyenne globale : {moyenne_globale:.2f}\")\n",
    "\n",
    "# Calculer la moyenne par examen (axe=0 pour les colonnes)\n",
    "moyenne_par_examen = np.mean(matrice_scores, axis=0) \n",
    "print(f\"Moyenne de chaque examen : {moyenne_par_examen}\")\n"
   ]
  },
  {
   "cell_type": "code",
   "execution_count": 12,
   "id": "9b7e9271-c148-4dde-bc16-53c48dd77912",
   "metadata": {},
   "outputs": [
    {
     "name": "stdout",
     "output_type": "stream",
     "text": [
      "la somme des examens par etudiants :[267 261 217]\n"
     ]
    }
   ],
   "source": [
    "score_par_etudiant=np.sum(matrice_scores,axis=1)\n",
    "print(f\"la somme des examens par etudiants :{score_par_etudiant}\")"
   ]
  },
  {
   "cell_type": "markdown",
   "id": "f90b91f0-b1cf-4b3b-9c72-be1e2c31dc12",
   "metadata": {},
   "source": [
    "# Masqe Booléen"
   ]
  },
  {
   "cell_type": "code",
   "execution_count": 13,
   "id": "6e41f4ed-eac2-4288-84fc-69cc4adbf03f",
   "metadata": {},
   "outputs": [
    {
     "name": "stdout",
     "output_type": "stream",
     "text": [
      "Masque Booléen :\n",
      "[[ True False  True]\n",
      " [False  True  True]\n",
      " [False False False]]\n",
      "\n",
      "Scores supérieurs à 85 : [90 92 88 95]\n"
     ]
    }
   ],
   "source": [
    "# 1. Créer le masque booléen\n",
    "# Un masque est un tableau de True/False de la même forme que la matrice\n",
    "masque_sup_85 = matrice_scores > 85 \n",
    "print(f\"Masque Booléen :\\n{masque_sup_85}\")\n",
    "\n",
    "# 2. Appliquer le masque\n",
    "# NumPy ne sélectionne que les éléments où le masque est True\n",
    "scores_superieurs_85 = matrice_scores[masque_sup_85]\n",
    "\n",
    "print(f\"\\nScores supérieurs à 85 : {scores_superieurs_85}\")\n",
    "# Output : [90 92 88 95]"
   ]
  },
  {
   "cell_type": "code",
   "execution_count": 16,
   "id": "98b65b51-17a9-4fcd-b4fe-f1e532f9f371",
   "metadata": {},
   "outputs": [
    {
     "name": "stdout",
     "output_type": "stream",
     "text": [
      "Masque booléen : \n",
      " [[False False False]\n",
      " [ True False False]\n",
      " [ True  True False]]\n",
      "Les scores inférieurs à 80 : [78 65 72]\n"
     ]
    }
   ],
   "source": [
    "# score inferieur 80\n",
    "masque_inf_80=matrice_scores<80\n",
    "print(f\"Masque booléen : \\n {masque_inf_80}\")\n",
    "\n",
    "score_inf_80=matrice_scores[masque_inf_80]\n",
    "print(f\"Les scores inférieurs à 80 : {score_inf_80}\")"
   ]
  },
  {
   "cell_type": "markdown",
   "id": "e1f6f327-aa2f-4ab1-af40-b00077d86a5f",
   "metadata": {},
   "source": [
    "# Introduction à la bibliothèqe Pandss"
   ]
  },
  {
   "cell_type": "code",
   "execution_count": 19,
   "id": "1412e36b-580a-41b4-87f5-ed1e3fceede8",
   "metadata": {},
   "outputs": [
    {
     "name": "stdout",
     "output_type": "stream",
     "text": [
      "--- 5 premières lignes (df.head()) ---\n",
      "       Nom  Age  Ville   Revenu\n",
      "0    Alice   25  Paris  50000.0\n",
      "1      Bob   30   Lyon  65000.0\n",
      "2  Charlie   35  Paris      NaN\n",
      "3    David   22   Nice  40000.0\n",
      "4      Eve   28   Lyon  72000.0\n",
      "\n",
      "--- Informations sur la structure (df.info()) ---\n",
      "<class 'pandas.core.frame.DataFrame'>\n",
      "RangeIndex: 5 entries, 0 to 4\n",
      "Data columns (total 4 columns):\n",
      " #   Column  Non-Null Count  Dtype  \n",
      "---  ------  --------------  -----  \n",
      " 0   Nom     5 non-null      object \n",
      " 1   Age     5 non-null      int64  \n",
      " 2   Ville   5 non-null      object \n",
      " 3   Revenu  4 non-null      float64\n",
      "dtypes: float64(1), int64(1), object(2)\n",
      "memory usage: 292.0+ bytes\n",
      "\n",
      "--- Statistiques descriptives (df.describe()) ---\n",
      "             Age        Revenu\n",
      "count   5.000000      4.000000\n",
      "mean   28.000000  56750.000000\n",
      "std     4.949747  14453.949864\n",
      "min    22.000000  40000.000000\n",
      "25%    25.000000  47500.000000\n",
      "50%    28.000000  57500.000000\n",
      "75%    30.000000  66750.000000\n",
      "max    35.000000  72000.000000\n"
     ]
    }
   ],
   "source": [
    "import pandas as pd\n",
    "import numpy as np\n",
    "\n",
    "# 1. Préparation des données sous forme de dictionnaire\n",
    "data = {\n",
    "    'Nom': ['Alice', 'Bob', 'Charlie', 'David', 'Eve'],\n",
    "    'Age': [25, 30, 35, 22, 28],\n",
    "    'Ville': ['Paris', 'Lyon', 'Paris', 'Nice', 'Lyon'],\n",
    "    # Utilisation d'un NaN (Not a Number) de NumPy pour une valeur manquante\n",
    "    'Revenu': [50000, 65000, np.nan, 40000, 72000] \n",
    "}\n",
    "\n",
    "df_clients=pd.DataFrame(data)\n",
    "\n",
    "print(\"--- 5 premières lignes (df.head()) ---\")\n",
    "print(df_clients.head()) # Affiche les 5 premières lignes\n",
    "\n",
    "print(\"\\n--- Informations sur la structure (df.info()) ---\")\n",
    "df_clients.info() # Donne les types de données, les valeurs non nulles, et l'utilisation mémoire\n",
    "\n",
    "print(\"\\n--- Statistiques descriptives (df.describe()) ---\")\n",
    "print(df_clients.describe()) # Donne la moyenne, l'écart-type, les quartiles pour les colonnes numériques\n"
   ]
  },
  {
   "cell_type": "code",
   "execution_count": null,
   "id": "efcb40ca-c55d-4cd8-908e-0540d771a908",
   "metadata": {},
   "outputs": [],
   "source": []
  }
 ],
 "metadata": {
  "kernelspec": {
   "display_name": "Python 3 (ipykernel)",
   "language": "python",
   "name": "python3"
  },
  "language_info": {
   "codemirror_mode": {
    "name": "ipython",
    "version": 3
   },
   "file_extension": ".py",
   "mimetype": "text/x-python",
   "name": "python",
   "nbconvert_exporter": "python",
   "pygments_lexer": "ipython3",
   "version": "3.12.0"
  }
 },
 "nbformat": 4,
 "nbformat_minor": 5
}
